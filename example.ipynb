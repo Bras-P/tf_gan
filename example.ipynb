{
 "cells": [
  {
   "attachments": {},
   "cell_type": "markdown",
   "metadata": {},
   "source": [
    "# <tt>tf_gan</tt>: A short implementation of Generative Adversarial Neural Networks in TensorFlow"
   ]
  },
  {
   "attachments": {},
   "cell_type": "markdown",
   "metadata": {},
   "source": [
    "Import"
   ]
  },
  {
   "cell_type": "code",
   "execution_count": null,
   "metadata": {},
   "outputs": [],
   "source": [
    "import tensorflow as tf\n",
    "from tf_gan import GAN"
   ]
  },
  {
   "attachments": {},
   "cell_type": "markdown",
   "metadata": {},
   "source": [
    "Prepare dataset and networks.\n",
    "\n",
    "<tt>generate_latent_variables</tt> should be a function of <tt>int: batch_size</tt>\n",
    "\n",
    "As a convention, <tt>disc_network</tt> should have ouput of <tt>tf.keras.layers.Dense(1)</tt> (do not use sigmoid).\n",
    "\n",
    "As optional arguments: <tt>gen_opt</tt> and <tt>disc_opt</tt> for the optimizer of the generator and of the discriminator respectively."
   ]
  },
  {
   "cell_type": "code",
   "execution_count": null,
   "metadata": {},
   "outputs": [],
   "source": [
    "dim = 5\n",
    "latent_dim = 10\n",
    "dataset = tf.data.Dataset.from_tensor_slices(tf.random.normal((20000, dim))).batch(256).prefetch(tf.data.AUTOTUNE)\n",
    "\n",
    "gen_network = tf.keras.Sequential([\n",
    "    tf.keras.layers.Dense(units=32, activation='relu'),\n",
    "    tf.keras.layers.Dense(units=64, activation='relu'),\n",
    "    tf.keras.layers.Dense(units=dim)\n",
    "])\n",
    "\n",
    "disc_network = tf.keras.Sequential([\n",
    "    tf.keras.layers.Dense(units=32, activation='relu'),\n",
    "    tf.keras.layers.Dense(units=16, activation='relu'),\n",
    "    tf.keras.layers.Dense(units=1)\n",
    "])\n",
    "\n",
    "def generate_latent_variables(batch_size):\n",
    "    return tf.random.normal((batch_size, latent_dim))\n",
    "\n",
    "\n",
    "gan = GAN(\n",
    "    gen_network = gen_network,\n",
    "    disc_network = disc_network,\n",
    "    generate_latent_variables = generate_latent_variables,\n",
    ")"
   ]
  },
  {
   "attachments": {},
   "cell_type": "markdown",
   "metadata": {},
   "source": [
    "Training with the <tt>dataset</tt>"
   ]
  },
  {
   "cell_type": "code",
   "execution_count": null,
   "metadata": {},
   "outputs": [],
   "source": [
    "gan.train(dataset=dataset, epochs=20)"
   ]
  },
  {
   "attachments": {},
   "cell_type": "markdown",
   "metadata": {},
   "source": [
    "Generate samples"
   ]
  },
  {
   "cell_type": "code",
   "execution_count": null,
   "metadata": {},
   "outputs": [],
   "source": [
    "gan.generate_samples(batch_size=10)"
   ]
  }
 ],
 "metadata": {
  "language_info": {
   "name": "python"
  },
  "orig_nbformat": 4
 },
 "nbformat": 4,
 "nbformat_minor": 2
}
